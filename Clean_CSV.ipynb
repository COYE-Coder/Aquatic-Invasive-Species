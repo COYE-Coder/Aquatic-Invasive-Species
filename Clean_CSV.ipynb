{
 "cells": [
  {
   "cell_type": "code",
   "execution_count": 1,
   "metadata": {},
   "outputs": [],
   "source": [
    "#%reload_ext autoreload\n",
    "%load_ext autoreload\n",
    "\n",
    "%autoreload 2\n"
   ]
  },
  {
   "cell_type": "code",
   "execution_count": 2,
   "metadata": {
    "scrolled": false
   },
   "outputs": [
    {
     "name": "stdout",
     "output_type": "stream",
     "text": [
      "Name: seaborn\r\n",
      "Version: 0.10.1\r\n",
      "Summary: seaborn: statistical data visualization\r\n",
      "Home-page: https://seaborn.pydata.org\r\n",
      "Author: Michael Waskom\r\n",
      "Author-email: mwaskom@nyu.edu\r\n",
      "License: BSD (3-clause)\r\n",
      "Location: /Users/Thugg/opt/miniconda3/envs/AIS/lib/python3.7/site-packages\r\n",
      "Requires: pandas, scipy, numpy, matplotlib\r\n",
      "Required-by: \r\n"
     ]
    }
   ],
   "source": [
    "!pip show seaborn "
   ]
  },
  {
   "cell_type": "code",
   "execution_count": 3,
   "metadata": {},
   "outputs": [
    {
     "name": "stdout",
     "output_type": "stream",
     "text": [
      "\u001b[33mWARNING: Package(s) not found: seaborn\u001b[0m\r\n"
     ]
    }
   ],
   "source": []
  },
  {
   "cell_type": "markdown",
   "metadata": {},
   "source": [
    "<h1>Imports <h1>"
   ]
  },
  {
   "cell_type": "code",
   "execution_count": 3,
   "metadata": {},
   "outputs": [
    {
     "name": "stdout",
     "output_type": "stream",
     "text": [
      "/Library/Frameworks/Python.framework/Versions/3.7/bin/python3\n",
      "3.7.2 (v3.7.2:9a3ffc0492, Dec 24 2018, 02:44:43) \n",
      "[Clang 6.0 (clang-600.0.57)]\n",
      "sys.version_info(major=3, minor=7, micro=2, releaselevel='final', serial=0)\n",
      "/Users/Thugg/Documents/UM/Summer_2020/Jupyter\n",
      "['/Users/Thugg/Documents/UM/Summer_2020/Jupyter', '/Library/Frameworks/Python.framework/Versions/3.7/lib/python37.zip', '/Library/Frameworks/Python.framework/Versions/3.7/lib/python3.7', '/Library/Frameworks/Python.framework/Versions/3.7/lib/python3.7/lib-dynload', '', '/Users/Thugg/Library/Python/3.7/lib/python/site-packages', '/Library/Frameworks/Python.framework/Versions/3.7/lib/python3.7/site-packages', '/Library/Frameworks/Python.framework/Versions/3.7/lib/python3.7/site-packages/IPython/extensions', '/Users/Thugg/.ipython']\n"
     ]
    }
   ],
   "source": [
    "import sys\n",
    "import os\n",
    "print(sys.executable) \n",
    "print(sys.version) \n",
    "print(sys.version_info)\n",
    "print(os.getcwd())\n",
    "print(sys.path)\n",
    "#sys.path.pop()\n",
    "sys.path.append(\"/Users/Thugg/opt/miniconda3/envs/AIS/lib/python3.7/site-packages\")"
   ]
  },
  {
   "cell_type": "code",
   "execution_count": 6,
   "metadata": {},
   "outputs": [],
   "source": [
    "import matplotlib.pyplot as plt\n",
    "import pandas as pd\n",
    "# import numpy as np\n",
    "# import seaborn as sn\n",
    "# from pprint import pprint\n",
    "# from sklearn.ensemble import RandomForestRegressor\n",
    "# from sklearn.model_selection import train_test_split\n",
    "# from sklearn.inspection import permutation_importance\n",
    "# from sklearn.model_selection import RandomizedSearchCV\n",
    "# from sklearn.model_selection import cross_val_score\n",
    "# from sklearn.model_selection import GridSearchCV\n",
    "\n",
    "# from sklearn.base import clone\n",
    "# from zlib import crc32\n",
    "# from drop_collinear import drop_collinear\n",
    "# from run_rf import run_rf\n",
    "# from stratx import *\n",
    "# from stratx.featimp import *\n",
    "# from functools import reduce"
   ]
  },
  {
   "cell_type": "markdown",
   "metadata": {},
   "source": [
    "<h1>Manipulate Data Frame and Remove Unnecessary Columns, Renaming them <h1>"
   ]
  },
  {
   "cell_type": "code",
   "execution_count": 4,
   "metadata": {},
   "outputs": [],
   "source": [
    "fname = \"end_csv.csv\""
   ]
  },
  {
   "cell_type": "code",
   "execution_count": 7,
   "metadata": {},
   "outputs": [],
   "source": [
    "csv = pd.read_csv(fname)\n",
    "#csv.transpose()"
   ]
  },
  {
   "cell_type": "code",
   "execution_count": 8,
   "metadata": {},
   "outputs": [],
   "source": [
    "#Removes all but the first 10 characters of the system:index column\n",
    "csv['system:index'] = csv['system:index'].map(lambda x: str(x)[:10])"
   ]
  },
  {
   "cell_type": "code",
   "execution_count": 9,
   "metadata": {},
   "outputs": [],
   "source": [
    "#Replace system:index with years \n",
    "uniques = csv['system:index'].unique()\n",
    "years = list(range(2002,2014)) + list(range(2015,2017))\n",
    "dates = {u : y for (u,y) in zip(uniques,years)}\n",
    "csv['system:index'] = csv['system:index'].replace(dates)\n"
   ]
  },
  {
   "cell_type": "code",
   "execution_count": 10,
   "metadata": {
    "scrolled": true
   },
   "outputs": [],
   "source": [
    "#rename columns and drop bad columns\n",
    "drop_list = ['Cloud','Points','Quality',\n",
    "             'gnis_id','humod','hutype',\n",
    "             'loaddate','max_extent','metasource',\n",
    "             'name','noncontr00','noncontrib',\n",
    "             'shape_area','shape_leng','sourcedata',\n",
    "             'sourcefeat','sourceorig','states',\n",
    "             'tnmid','tohuc','transition','.geo','areaacres']\n",
    "\n",
    "csv = csv.drop(drop_list,axis=1)\n"
   ]
  },
  {
   "cell_type": "code",
   "execution_count": 11,
   "metadata": {},
   "outputs": [],
   "source": [
    "#Rename columns and add Identifier\n",
    "rename_list = ['Year','Heat-Insolation Load','Lithology',\n",
    "               'Max_LST_Annual','Mean_EVI','Mean_GPP',\n",
    "               'Mean_NDVI','Percent_NonTree_Vegetation',\n",
    "               'Percent_NonVegetated','Percent_NonVegetated_SD',\n",
    "               'Percent_Tree_Cover','Percent_Tree_Cover_SD',\n",
    "               'Topographic Diversity','weightedPRBT',\n",
    "               'weightedPWCT','AreaSqKm','Abs_Water_Change',\n",
    "               'Norm_Water_Change','Physiography',\n",
    "               'Elevation','Human Modification',\n",
    "               'HUCID','Occurrence','Recurrence',\n",
    "               'Seasonality']\n",
    "\n",
    "rename_zip = dict(zip(csv.columns,rename_list))\n",
    "csv_clean = csv.rename(columns = rename_zip)\n"
   ]
  },
  {
   "cell_type": "code",
   "execution_count": 12,
   "metadata": {},
   "outputs": [],
   "source": [
    "# #Define two separate CSV's\n",
    "csv_RBT = csv_clean.drop(['weightedPWCT'],axis=1)\n",
    "csv_WCT = csv_clean.drop(['weightedPRBT'],axis=1)\n",
    "\n",
    "\n",
    "#Removing irrelevant variables first\n",
    "remove_list = ['Percent_NonVegetated_SD',\n",
    "               'Percent_Tree_Cover_SD','Year','HUCID']\n",
    "\n",
    "csv_WCT = csv_WCT.drop(remove_list,axis=1).dropna()\n",
    "csv_RBT = csv_RBT.drop(remove_list,axis=1).dropna()"
   ]
  },
  {
   "cell_type": "code",
   "execution_count": 13,
   "metadata": {
    "scrolled": false
   },
   "outputs": [],
   "source": [
    "#Drop all nan's\n",
    "csv_WCT = csv_WCT.dropna()\n",
    "csv_RBT = csv_RBT.dropna()"
   ]
  },
  {
   "cell_type": "code",
   "execution_count": 16,
   "metadata": {},
   "outputs": [],
   "source": [
    "csv_WCT.to_csv(\"WCT_Clean.csv\",index=False)\n",
    "csv_RBT.to_csv(\"RBT_Clean.csv\",index=False)"
   ]
  },
  {
   "cell_type": "code",
   "execution_count": null,
   "metadata": {},
   "outputs": [],
   "source": []
  }
 ],
 "metadata": {
  "kernelspec": {
   "display_name": "Python 3",
   "language": "python",
   "name": "python3"
  },
  "language_info": {
   "codemirror_mode": {
    "name": "ipython",
    "version": 3
   },
   "file_extension": ".py",
   "mimetype": "text/x-python",
   "name": "python",
   "nbconvert_exporter": "python",
   "pygments_lexer": "ipython3",
   "version": "3.7.2"
  }
 },
 "nbformat": 4,
 "nbformat_minor": 2
}

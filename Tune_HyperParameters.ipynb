{
 "cells": [
  {
   "cell_type": "code",
   "execution_count": 2,
   "metadata": {},
   "outputs": [],
   "source": [
    "#%reload_ext autoreload\n",
    "%load_ext autoreload\n",
    "\n",
    "%autoreload 2\n"
   ]
  },
  {
   "cell_type": "code",
   "execution_count": 3,
   "metadata": {
    "scrolled": false
   },
   "outputs": [
    {
     "name": "stdout",
     "output_type": "stream",
     "text": [
      "Name: dill\r\n",
      "Version: 0.3.2\r\n",
      "Summary: serialize all of python\r\n",
      "Home-page: https://pypi.org/project/dill\r\n",
      "Author: Mike McKerns\r\n",
      "Author-email: None\r\n",
      "License: 3-clause BSD\r\n",
      "Location: /Users/Thugg/opt/miniconda3/envs/AIS/lib/python3.7/site-packages\r\n",
      "Requires: \r\n",
      "Required-by: \r\n"
     ]
    }
   ],
   "source": [
    "!pip show dill "
   ]
  },
  {
   "cell_type": "code",
   "execution_count": 5,
   "metadata": {},
   "outputs": [],
   "source": [
    "import dill"
   ]
  },
  {
   "cell_type": "code",
   "execution_count": 6,
   "metadata": {},
   "outputs": [],
   "source": [
    "# dill.load_session('HyperParams.db')\n",
    "dill.dump_session('HyperParams.db')"
   ]
  },
  {
   "cell_type": "markdown",
   "metadata": {},
   "source": [
    "<h1>Imports <h1>"
   ]
  },
  {
   "cell_type": "code",
   "execution_count": 4,
   "metadata": {},
   "outputs": [
    {
     "name": "stdout",
     "output_type": "stream",
     "text": [
      "/Library/Frameworks/Python.framework/Versions/3.7/bin/python3\n",
      "3.7.2 (v3.7.2:9a3ffc0492, Dec 24 2018, 02:44:43) \n",
      "[Clang 6.0 (clang-600.0.57)]\n",
      "sys.version_info(major=3, minor=7, micro=2, releaselevel='final', serial=0)\n",
      "/Users/Thugg/Documents/UM/Summer_2020/Jupyter\n",
      "['/Users/Thugg/Documents/UM/Summer_2020/Jupyter', '/Library/Frameworks/Python.framework/Versions/3.7/lib/python37.zip', '/Library/Frameworks/Python.framework/Versions/3.7/lib/python3.7', '/Library/Frameworks/Python.framework/Versions/3.7/lib/python3.7/lib-dynload', '', '/Users/Thugg/Library/Python/3.7/lib/python/site-packages', '/Library/Frameworks/Python.framework/Versions/3.7/lib/python3.7/site-packages', '/Library/Frameworks/Python.framework/Versions/3.7/lib/python3.7/site-packages/IPython/extensions', '/Users/Thugg/.ipython']\n"
     ]
    }
   ],
   "source": [
    "import sys\n",
    "import os\n",
    "print(sys.executable) \n",
    "print(sys.version) \n",
    "print(sys.version_info)\n",
    "print(os.getcwd())\n",
    "print(sys.path)\n",
    "#sys.path.pop()\n",
    "sys.path.append(\"/Users/Thugg/opt/miniconda3/envs/AIS/lib/python3.7/site-packages\")"
   ]
  },
  {
   "cell_type": "code",
   "execution_count": 4,
   "metadata": {},
   "outputs": [],
   "source": [
    "import dill\n",
    "import matplotlib.pyplot as plt\n",
    "import pandas as pd\n",
    "import numpy as np\n",
    "import seaborn as sn\n",
    "from pprint import pprint\n",
    "from sklearn.ensemble import RandomForestRegressor\n",
    "from sklearn.model_selection import train_test_split\n",
    "from sklearn.inspection import permutation_importance\n",
    "from sklearn.model_selection import RandomizedSearchCV\n",
    "from sklearn.model_selection import cross_val_score\n",
    "from sklearn.model_selection import GridSearchCV\n",
    "\n",
    "from sklearn.base import clone\n",
    "from zlib import crc32\n",
    "from drop_collinear import drop_collinear\n",
    "from run_rf import run_rf\n",
    "from stratx import *\n",
    "from stratx.featimp import *\n",
    "from functools import reduce"
   ]
  },
  {
   "cell_type": "code",
   "execution_count": 13,
   "metadata": {
    "scrolled": false
   },
   "outputs": [],
   "source": [
    "#Read in CSV from Clean_CSV.pynb\n",
    "csv_WCT = pd.read_csv(\"WCT_Clean.csv\")\n",
    "csv_RBT = pd.read_csv(\"RBT_Clean.csv\")"
   ]
  },
  {
   "cell_type": "code",
   "execution_count": 21,
   "metadata": {},
   "outputs": [],
   "source": [
    "X_wct = csv_WCT.drop('weightedPWCT', axis=1)\n",
    "y_wct = csv_WCT['weightedPWCT']\n",
    "X_rbt = csv_RBT.drop('weightedPRBT',axis=1)\n",
    "y_rbt = csv_RBT['weightedPRBT']"
   ]
  },
  {
   "cell_type": "code",
   "execution_count": 22,
   "metadata": {
    "scrolled": true
   },
   "outputs": [],
   "source": [
    "#Drop Collinear Columns\n",
    "X_wct_collinear = drop_collinear(X_wct,0.7)\n",
    "X_rbt_collinear = drop_collinear(X_rbt,0.7)\n"
   ]
  },
  {
   "cell_type": "markdown",
   "metadata": {},
   "source": [
    "<h1>Tune HyperParameters- WCT<h1>"
   ]
  },
  {
   "cell_type": "code",
   "execution_count": 16,
   "metadata": {},
   "outputs": [],
   "source": [
    "X_train, X_test, y_train, y_test = train_test_split(X_wct_collinear,\n",
    "                                                    y_wct,\n",
    "                                                   test_size = 0.2,\n",
    "                                                   random_state = 12)"
   ]
  },
  {
   "cell_type": "code",
   "execution_count": 70,
   "metadata": {},
   "outputs": [
    {
     "data": {
      "text/plain": [
       "RandomForestRegressor()"
      ]
     },
     "execution_count": 70,
     "metadata": {},
     "output_type": "execute_result"
    }
   ],
   "source": [
    "imp_rf_wct = RandomForestRegressor()\n",
    "imp_rf_wct.fit(X_train,y_train)"
   ]
  },
  {
   "cell_type": "code",
   "execution_count": 161,
   "metadata": {},
   "outputs": [
    {
     "name": "stdout",
     "output_type": "stream",
     "text": [
      "{'bootstrap': [True, False],\n",
      " 'max_depth': [10, 20, 30, 40, 50, 60, 70, 80, 90, 100, 110, None],\n",
      " 'max_features': [2, 3, 4, 5, 6, 7, 8],\n",
      " 'min_samples_leaf': [1, 2, 4],\n",
      " 'min_samples_split': [2, 5, 10],\n",
      " 'n_estimators': [200, 400, 600, 800, 1000, 1200, 1400, 1600, 1800, 2000]}\n"
     ]
    }
   ],
   "source": [
    "#Tune hyper parameters before running feature importances\n",
    "\n",
    "#First define lists of different parameter values to try\n",
    "n_estimators = [int(x) for x in np.linspace(200,2000,10)]\n",
    "\n",
    "max_features = [int(x) for x in np.linspace(2,8,7)]\n",
    "\n",
    "max_depth = [int(x) for x in np.linspace(10,110,11)]\n",
    "\n",
    "max_depth.append(None)\n",
    "\n",
    "min_samples_split = [2,5,10]\n",
    "\n",
    "min_samples_leaf = [1,2,4]\n",
    "\n",
    "bootstrap = [True,False]\n",
    "\n",
    "\n",
    "#Plug into a random grid for RandomizedSearchCV\n",
    "random_grid = {'n_estimators': n_estimators,\n",
    "               'max_features': max_features,\n",
    "               'max_depth': max_depth,\n",
    "               'min_samples_split': min_samples_split,\n",
    "               'min_samples_leaf': min_samples_leaf,\n",
    "               'bootstrap': bootstrap}\n",
    "pprint(random_grid)"
   ]
  },
  {
   "cell_type": "code",
   "execution_count": 162,
   "metadata": {
    "scrolled": true
   },
   "outputs": [
    {
     "name": "stdout",
     "output_type": "stream",
     "text": [
      "Fitting 50 folds for each of 100 candidates, totalling 5000 fits\n"
     ]
    },
    {
     "name": "stderr",
     "output_type": "stream",
     "text": [
      "[Parallel(n_jobs=-1)]: Using backend LokyBackend with 8 concurrent workers.\n",
      "[Parallel(n_jobs=-1)]: Done  25 tasks      | elapsed:    8.7s\n",
      "[Parallel(n_jobs=-1)]: Done 146 tasks      | elapsed:   46.2s\n",
      "[Parallel(n_jobs=-1)]: Done 349 tasks      | elapsed:  1.8min\n",
      "[Parallel(n_jobs=-1)]: Done 632 tasks      | elapsed:  2.9min\n",
      "[Parallel(n_jobs=-1)]: Done 997 tasks      | elapsed:  4.2min\n",
      "[Parallel(n_jobs=-1)]: Done 1442 tasks      | elapsed:  6.0min\n",
      "[Parallel(n_jobs=-1)]: Done 1969 tasks      | elapsed:  8.5min\n",
      "[Parallel(n_jobs=-1)]: Done 2576 tasks      | elapsed: 10.8min\n",
      "[Parallel(n_jobs=-1)]: Done 3265 tasks      | elapsed: 12.9min\n",
      "[Parallel(n_jobs=-1)]: Done 4034 tasks      | elapsed: 15.1min\n",
      "[Parallel(n_jobs=-1)]: Done 4885 tasks      | elapsed: 18.4min\n",
      "[Parallel(n_jobs=-1)]: Done 5000 out of 5000 | elapsed: 18.9min finished\n"
     ]
    },
    {
     "data": {
      "text/plain": [
       "RandomizedSearchCV(cv=50, estimator=RandomForestRegressor(), n_iter=100,\n",
       "                   n_jobs=-1,\n",
       "                   param_distributions={'bootstrap': [True, False],\n",
       "                                        'max_depth': [10, 20, 30, 40, 50, 60,\n",
       "                                                      70, 80, 90, 100, 110,\n",
       "                                                      None],\n",
       "                                        'max_features': [2, 3, 4, 5, 6, 7, 8],\n",
       "                                        'min_samples_leaf': [1, 2, 4],\n",
       "                                        'min_samples_split': [2, 5, 10],\n",
       "                                        'n_estimators': [200, 400, 600, 800,\n",
       "                                                         1000, 1200, 1400, 1600,\n",
       "                                                         1800, 2000]},\n",
       "                   random_state=12, verbose=2)"
      ]
     },
     "execution_count": 162,
     "metadata": {},
     "output_type": "execute_result"
    }
   ],
   "source": [
    "#Now use RandomizedSEarchCV\n",
    "rf_random = RandomizedSearchCV(estimator = imp_rf_wct,\n",
    "                               param_distributions = random_grid,\n",
    "                               n_iter = 100,\n",
    "                               cv = 50,\n",
    "                               verbose = 2,\n",
    "                               random_state = 12,\n",
    "                               n_jobs = -1)\n",
    "rf_random.fit(X_train,y_train)"
   ]
  },
  {
   "cell_type": "code",
   "execution_count": 125,
   "metadata": {},
   "outputs": [
    {
     "name": "stdout",
     "output_type": "stream",
     "text": [
      "Mean Absolute Error:  12.87 %\n",
      "Mean CV Score:  -11.14\n"
     ]
    }
   ],
   "source": [
    "#Base model MAE and CV score\n",
    "predictions = imp_rf_wct.predict(X_test)\n",
    "errors = abs(predictions - y_test)\n",
    "cv = cross_val_score(imp_rf_wct,X_wct,y_wct,scoring = 'neg_mean_absolute_error',cv=5)\n",
    "\n",
    "print(\"Mean Absolute Error: \", round(np.mean(errors),2),'%')\n",
    "print(\"Mean CV Score: \" ,round(np.mean(cv),2))"
   ]
  },
  {
   "cell_type": "code",
   "execution_count": 163,
   "metadata": {},
   "outputs": [
    {
     "data": {
      "text/plain": [
       "{'n_estimators': 1200,\n",
       " 'min_samples_split': 10,\n",
       " 'min_samples_leaf': 1,\n",
       " 'max_features': 5,\n",
       " 'max_depth': 110,\n",
       " 'bootstrap': False}"
      ]
     },
     "execution_count": 163,
     "metadata": {},
     "output_type": "execute_result"
    }
   ],
   "source": [
    "rf_random.best_params_\n"
   ]
  },
  {
   "cell_type": "code",
   "execution_count": 165,
   "metadata": {},
   "outputs": [
    {
     "name": "stdout",
     "output_type": "stream",
     "text": [
      "Mean Absolute Error:  11.28 %\n",
      "Mean CV Score:  -10.95\n"
     ]
    }
   ],
   "source": [
    "#Tuned MAE and CV score\n",
    "best_search = rf_random.best_estimator_\n",
    "predictions = best_search.predict(X_test)\n",
    "errors = abs(predictions - y_test)\n",
    "cv = cross_val_score(best_search,X_wct,y_wct,scoring = 'neg_mean_absolute_error',cv=50)\n",
    "\n",
    "print(\"Mean Absolute Error: \", round(np.mean(errors),2),'%')\n",
    "print(\"Mean CV Score: \" ,round(np.mean(cv),2))"
   ]
  },
  {
   "cell_type": "code",
   "execution_count": 147,
   "metadata": {
    "scrolled": true
   },
   "outputs": [
    {
     "data": {
      "text/plain": [
       "{'n_estimators': 600,\n",
       " 'min_samples_split': 10,\n",
       " 'min_samples_leaf': 1,\n",
       " 'max_features': 7,\n",
       " 'max_depth': 80,\n",
       " 'bootstrap': False}"
      ]
     },
     "execution_count": 147,
     "metadata": {},
     "output_type": "execute_result"
    }
   ],
   "source": [
    "#View best parameters\n",
    "rf_random.best_params_\n",
    "\n",
    "\n",
    "\n",
    "#***** BEST MODEL per random grid search*****\n",
    "# {'n_estimators': 1200,\n",
    "#  'min_samples_split': 10,\n",
    "#  'min_samples_leaf': 1,\n",
    "#  'max_features': 5,\n",
    "#  'max_depth': 110,\n",
    "#  'bootstrap': False}\n",
    "\n",
    "\n",
    "\n",
    "#*Other results:*\n",
    "# {'n_estimators': 1400,\n",
    "#  'min_samples_split': 2,\n",
    "#  'min_samples_leaf': 1,\n",
    "#  'max_features': 'sqrt',\n",
    "#  'max_depth': 30,\n",
    "#  'bootstrap': False}\n",
    "\n",
    "\n",
    "\n",
    "\n",
    "# {'n_estimators': 600,\n",
    "#  'min_samples_split': 10,\n",
    "#  'min_samples_leaf': 1,\n",
    "#  'max_features': 7,\n",
    "#  'max_depth': 80,\n",
    "#  'bootstrap': False}"
   ]
  },
  {
   "cell_type": "code",
   "execution_count": 168,
   "metadata": {},
   "outputs": [],
   "source": [
    "#Do Grid Search around best parameters\n",
    "\n",
    "\n",
    "param_grid = {'n_estimators': [600,700,800,900,1100,1200],\n",
    "              'min_samples_split': [8,9,10,11,12],\n",
    "              'min_samples_leaf': [1,2],\n",
    "              'max_features': [3,4,5,6,7,8],\n",
    "              'max_depth': [60,70,80,90,100,110],\n",
    "              'bootstrap': [True,False]}\n",
    "grid_rf = RandomForestRegressor()\n",
    "\n",
    "grid_search = GridSearchCV(estimator=grid_rf,\n",
    "                           param_grid = param_grid,\n",
    "                           cv = 5, n_jobs = -1, verbose = 2)"
   ]
  },
  {
   "cell_type": "code",
   "execution_count": 169,
   "metadata": {},
   "outputs": [
    {
     "name": "stdout",
     "output_type": "stream",
     "text": [
      "Fitting 5 folds for each of 4320 candidates, totalling 21600 fits\n"
     ]
    },
    {
     "name": "stderr",
     "output_type": "stream",
     "text": [
      "[Parallel(n_jobs=-1)]: Using backend LokyBackend with 8 concurrent workers.\n",
      "[Parallel(n_jobs=-1)]: Done  25 tasks      | elapsed:    6.8s\n",
      "[Parallel(n_jobs=-1)]: Done 146 tasks      | elapsed:   33.6s\n",
      "[Parallel(n_jobs=-1)]: Done 349 tasks      | elapsed:  1.3min\n",
      "[Parallel(n_jobs=-1)]: Done 632 tasks      | elapsed:  2.4min\n",
      "[Parallel(n_jobs=-1)]: Done 997 tasks      | elapsed:  3.8min\n",
      "[Parallel(n_jobs=-1)]: Done 1442 tasks      | elapsed:  5.5min\n",
      "[Parallel(n_jobs=-1)]: Done 1969 tasks      | elapsed:  7.6min\n",
      "[Parallel(n_jobs=-1)]: Done 2576 tasks      | elapsed:  9.9min\n",
      "[Parallel(n_jobs=-1)]: Done 3265 tasks      | elapsed: 12.6min\n",
      "[Parallel(n_jobs=-1)]: Done 4034 tasks      | elapsed: 15.6min\n",
      "[Parallel(n_jobs=-1)]: Done 4885 tasks      | elapsed: 18.8min\n",
      "[Parallel(n_jobs=-1)]: Done 5816 tasks      | elapsed: 22.4min\n",
      "[Parallel(n_jobs=-1)]: Done 6829 tasks      | elapsed: 26.3min\n",
      "[Parallel(n_jobs=-1)]: Done 7922 tasks      | elapsed: 30.5min\n",
      "[Parallel(n_jobs=-1)]: Done 9097 tasks      | elapsed: 35.1min\n",
      "[Parallel(n_jobs=-1)]: Done 10352 tasks      | elapsed: 39.5min\n",
      "[Parallel(n_jobs=-1)]: Done 11689 tasks      | elapsed: 43.8min\n",
      "[Parallel(n_jobs=-1)]: Done 13106 tasks      | elapsed: 48.3min\n",
      "[Parallel(n_jobs=-1)]: Done 14605 tasks      | elapsed: 53.1min\n",
      "[Parallel(n_jobs=-1)]: Done 16184 tasks      | elapsed: 58.8min\n",
      "[Parallel(n_jobs=-1)]: Done 17845 tasks      | elapsed: 64.7min\n",
      "[Parallel(n_jobs=-1)]: Done 19586 tasks      | elapsed: 70.8min\n",
      "[Parallel(n_jobs=-1)]: Done 21409 tasks      | elapsed: 77.4min\n",
      "[Parallel(n_jobs=-1)]: Done 21600 out of 21600 | elapsed: 78.1min finished\n"
     ]
    },
    {
     "data": {
      "text/plain": [
       "GridSearchCV(cv=5, estimator=RandomForestRegressor(), n_jobs=-1,\n",
       "             param_grid={'bootstrap': [True, False],\n",
       "                         'max_depth': [60, 70, 80, 90, 100, 110],\n",
       "                         'max_features': [3, 4, 5, 6, 7, 8],\n",
       "                         'min_samples_leaf': [1, 2],\n",
       "                         'min_samples_split': [8, 9, 10, 11, 12],\n",
       "                         'n_estimators': [600, 700, 800, 900, 1100, 1200]},\n",
       "             verbose=2)"
      ]
     },
     "execution_count": 169,
     "metadata": {},
     "output_type": "execute_result"
    }
   ],
   "source": [
    "grid_search.fit(X_train,y_train)"
   ]
  },
  {
   "cell_type": "code",
   "execution_count": 170,
   "metadata": {
    "scrolled": true
   },
   "outputs": [
    {
     "data": {
      "text/plain": [
       "{'bootstrap': False,\n",
       " 'max_depth': 70,\n",
       " 'max_features': 8,\n",
       " 'min_samples_leaf': 1,\n",
       " 'min_samples_split': 10,\n",
       " 'n_estimators': 600}"
      ]
     },
     "execution_count": 170,
     "metadata": {},
     "output_type": "execute_result"
    }
   ],
   "source": [
    "grid_search.best_params_\n",
    "\n",
    "\n",
    "#*BEST MODEL TO BE USED HEREFORTH*\n",
    "# {'bootstrap': False,\n",
    "#  'max_depth': 70,\n",
    "#  'max_features': 8,\n",
    "#  'min_samples_leaf': 1,\n",
    "#  'min_samples_split': 10,\n",
    "#  'n_estimators': 600}"
   ]
  },
  {
   "cell_type": "code",
   "execution_count": 171,
   "metadata": {},
   "outputs": [
    {
     "name": "stdout",
     "output_type": "stream",
     "text": [
      "Mean Absolute Error:  11.11 %\n",
      "Mean CV Score:  -10.13\n"
     ]
    }
   ],
   "source": [
    "#Tuned MAE and CV score\n",
    "best_grid = grid_search.best_estimator_\n",
    "predictions = best_grid.predict(X_test)\n",
    "errors = abs(predictions - y_test)\n",
    "cv = cross_val_score(best_grid,X_wct,y_wct,scoring = 'neg_mean_absolute_error',cv=5)\n",
    "\n",
    "print(\"Mean Absolute Error: \", round(np.mean(errors),2),'%')\n",
    "print(\"Mean CV Score: \" ,round(np.mean(cv),2))"
   ]
  },
  {
   "cell_type": "markdown",
   "metadata": {},
   "source": [
    "<h1>Now Tune for RBT <h1>\n",
    "    "
   ]
  },
  {
   "cell_type": "code",
   "execution_count": 23,
   "metadata": {},
   "outputs": [],
   "source": [
    "X_train, X_test, y_train, y_test = train_test_split(X_rbt_collinear,\n",
    "                                                    y_rbt,\n",
    "                                                   test_size = 0.2,\n",
    "                                                   random_state = 12)"
   ]
  },
  {
   "cell_type": "code",
   "execution_count": 24,
   "metadata": {
    "scrolled": true
   },
   "outputs": [
    {
     "data": {
      "text/plain": [
       "RandomForestRegressor()"
      ]
     },
     "execution_count": 24,
     "metadata": {},
     "output_type": "execute_result"
    }
   ],
   "source": [
    "imp_rf_rbt = RandomForestRegressor()\n",
    "imp_rf_rbt.fit(X_train,y_train)"
   ]
  },
  {
   "cell_type": "code",
   "execution_count": 25,
   "metadata": {},
   "outputs": [
    {
     "name": "stdout",
     "output_type": "stream",
     "text": [
      "{'bootstrap': [True, False],\n",
      " 'max_depth': [10, 20, 30, 40, 50, 60, 70, 80, 90, 100, 110, None],\n",
      " 'max_features': [2, 3, 4, 5, 6, 7, 8],\n",
      " 'min_samples_leaf': [1, 2, 4],\n",
      " 'min_samples_split': [2, 5, 10],\n",
      " 'n_estimators': [200, 400, 600, 800, 1000, 1200, 1400, 1600, 1800, 2000]}\n"
     ]
    }
   ],
   "source": [
    "#Tune hyper parameters before running feature importances\n",
    "\n",
    "#First define lists of different parameter values to try\n",
    "n_estimators = [int(x) for x in np.linspace(200,2000,10)]\n",
    "\n",
    "max_features = [int(x) for x in np.linspace(2,8,7)]\n",
    "\n",
    "max_depth = [int(x) for x in np.linspace(10,110,11)]\n",
    "\n",
    "max_depth.append(None)\n",
    "\n",
    "min_samples_split = [2,5,10]\n",
    "\n",
    "min_samples_leaf = [1,2,4]\n",
    "\n",
    "bootstrap = [True,False]\n",
    "\n",
    "\n",
    "#Plug into a random grid for RandomizedSearchCV\n",
    "random_grid = {'n_estimators': n_estimators,\n",
    "               'max_features': max_features,\n",
    "               'max_depth': max_depth,\n",
    "               'min_samples_split': min_samples_split,\n",
    "               'min_samples_leaf': min_samples_leaf,\n",
    "               'bootstrap': bootstrap}\n",
    "pprint(random_grid)"
   ]
  },
  {
   "cell_type": "code",
   "execution_count": 26,
   "metadata": {},
   "outputs": [
    {
     "name": "stdout",
     "output_type": "stream",
     "text": [
      "Fitting 5 folds for each of 100 candidates, totalling 500 fits\n"
     ]
    },
    {
     "name": "stderr",
     "output_type": "stream",
     "text": [
      "[Parallel(n_jobs=-1)]: Using backend LokyBackend with 8 concurrent workers.\n",
      "[Parallel(n_jobs=-1)]: Done  25 tasks      | elapsed:   10.3s\n",
      "[Parallel(n_jobs=-1)]: Done 146 tasks      | elapsed:   37.9s\n",
      "[Parallel(n_jobs=-1)]: Done 349 tasks      | elapsed:  1.4min\n",
      "[Parallel(n_jobs=-1)]: Done 500 out of 500 | elapsed:  1.9min finished\n"
     ]
    },
    {
     "data": {
      "text/plain": [
       "RandomizedSearchCV(cv=5, estimator=RandomForestRegressor(), n_iter=100,\n",
       "                   n_jobs=-1,\n",
       "                   param_distributions={'bootstrap': [True, False],\n",
       "                                        'max_depth': [10, 20, 30, 40, 50, 60,\n",
       "                                                      70, 80, 90, 100, 110,\n",
       "                                                      None],\n",
       "                                        'max_features': [2, 3, 4, 5, 6, 7, 8],\n",
       "                                        'min_samples_leaf': [1, 2, 4],\n",
       "                                        'min_samples_split': [2, 5, 10],\n",
       "                                        'n_estimators': [200, 400, 600, 800,\n",
       "                                                         1000, 1200, 1400, 1600,\n",
       "                                                         1800, 2000]},\n",
       "                   random_state=12, verbose=2)"
      ]
     },
     "execution_count": 26,
     "metadata": {},
     "output_type": "execute_result"
    }
   ],
   "source": [
    "#Now use RandomizedSEarchCV\n",
    "rf_random = RandomizedSearchCV(estimator = imp_rf_wct,\n",
    "                               param_distributions = random_grid,\n",
    "                               n_iter = 100,\n",
    "                               cv = 5,\n",
    "                               verbose = 2,\n",
    "                               random_state = 12,\n",
    "                               n_jobs = -1)\n",
    "rf_random.fit(X_train,y_train)"
   ]
  },
  {
   "cell_type": "code",
   "execution_count": 28,
   "metadata": {},
   "outputs": [
    {
     "data": {
      "text/plain": [
       "{'n_estimators': 1200,\n",
       " 'min_samples_split': 10,\n",
       " 'min_samples_leaf': 2,\n",
       " 'max_features': 6,\n",
       " 'max_depth': 110,\n",
       " 'bootstrap': False}"
      ]
     },
     "execution_count": 28,
     "metadata": {},
     "output_type": "execute_result"
    }
   ],
   "source": [
    "rf_random.best_params_\n",
    "# {'n_estimators': 1200,\n",
    "#  'min_samples_split': 10,\n",
    "#  'min_samples_leaf': 2,\n",
    "#  'max_features': 6,\n",
    "#  'max_depth': 110,\n",
    "#  'bootstrap': False}"
   ]
  },
  {
   "cell_type": "code",
   "execution_count": 29,
   "metadata": {},
   "outputs": [],
   "source": [
    "#Do Grid Search around best parameters\n",
    "\n",
    "\n",
    "param_grid = {'n_estimators': [1000,1100,1200,1300],\n",
    "              'min_samples_split': [9,10,11],\n",
    "              'min_samples_leaf': [1,2,3,4],\n",
    "              'max_features': [4,5,6],\n",
    "              'max_depth': [100,110,120,130,140,150],\n",
    "              'bootstrap': [True,False]}\n",
    "grid_rf = RandomForestRegressor()\n",
    "\n",
    "grid_search = GridSearchCV(estimator=grid_rf,\n",
    "                           param_grid = param_grid,\n",
    "                           cv = 5, n_jobs = -1, verbose = 2)"
   ]
  },
  {
   "cell_type": "code",
   "execution_count": 30,
   "metadata": {},
   "outputs": [
    {
     "name": "stdout",
     "output_type": "stream",
     "text": [
      "Fitting 5 folds for each of 1728 candidates, totalling 8640 fits\n"
     ]
    },
    {
     "name": "stderr",
     "output_type": "stream",
     "text": [
      "[Parallel(n_jobs=-1)]: Using backend LokyBackend with 8 concurrent workers.\n",
      "[Parallel(n_jobs=-1)]: Done  25 tasks      | elapsed:    7.0s\n",
      "[Parallel(n_jobs=-1)]: Done 146 tasks      | elapsed:   35.6s\n",
      "[Parallel(n_jobs=-1)]: Done 349 tasks      | elapsed:  1.4min\n",
      "[Parallel(n_jobs=-1)]: Done 632 tasks      | elapsed:  2.6min\n",
      "[Parallel(n_jobs=-1)]: Done 997 tasks      | elapsed:  4.2min\n",
      "[Parallel(n_jobs=-1)]: Done 1442 tasks      | elapsed:  6.0min\n",
      "[Parallel(n_jobs=-1)]: Done 1969 tasks      | elapsed:  8.3min\n",
      "[Parallel(n_jobs=-1)]: Done 2576 tasks      | elapsed: 10.8min\n",
      "[Parallel(n_jobs=-1)]: Done 3265 tasks      | elapsed: 13.7min\n",
      "[Parallel(n_jobs=-1)]: Done 4034 tasks      | elapsed: 16.9min\n",
      "[Parallel(n_jobs=-1)]: Done 4885 tasks      | elapsed: 20.4min\n",
      "[Parallel(n_jobs=-1)]: Done 5816 tasks      | elapsed: 24.0min\n",
      "[Parallel(n_jobs=-1)]: Done 6829 tasks      | elapsed: 28.0min\n",
      "[Parallel(n_jobs=-1)]: Done 7922 tasks      | elapsed: 32.4min\n",
      "[Parallel(n_jobs=-1)]: Done 8640 out of 8640 | elapsed: 35.2min finished\n"
     ]
    },
    {
     "data": {
      "text/plain": [
       "GridSearchCV(cv=5, estimator=RandomForestRegressor(), n_jobs=-1,\n",
       "             param_grid={'bootstrap': [True, False],\n",
       "                         'max_depth': [100, 110, 120, 130, 140, 150],\n",
       "                         'max_features': [4, 5, 6],\n",
       "                         'min_samples_leaf': [1, 2, 3, 4],\n",
       "                         'min_samples_split': [9, 10, 11],\n",
       "                         'n_estimators': [1000, 1100, 1200, 1300]},\n",
       "             verbose=2)"
      ]
     },
     "execution_count": 30,
     "metadata": {},
     "output_type": "execute_result"
    }
   ],
   "source": [
    "grid_search.fit(X_train,y_train)"
   ]
  },
  {
   "cell_type": "code",
   "execution_count": 40,
   "metadata": {
    "scrolled": true
   },
   "outputs": [
    {
     "data": {
      "text/plain": [
       "RandomForestRegressor(bootstrap=False, max_depth=120, max_features=6,\n",
       "                      min_samples_split=10, n_estimators=1000)"
      ]
     },
     "execution_count": 40,
     "metadata": {},
     "output_type": "execute_result"
    }
   ],
   "source": [
    "grid_search.best_estimator_\n",
    "\n",
    "# {'bootstrap': False,\n",
    "#  'max_depth': 120,\n",
    "#  'max_features': 6,\n",
    "#  'min_samples_leaf': 1,\n",
    "#  'min_samples_split': 10,\n",
    "#  'n_estimators': 1000}\n",
    "\n",
    "\n",
    "\n"
   ]
  },
  {
   "cell_type": "code",
   "execution_count": 1,
   "metadata": {
    "scrolled": true
   },
   "outputs": [
    {
     "ename": "NameError",
     "evalue": "name 'imp_rf_rbt' is not defined",
     "output_type": "error",
     "traceback": [
      "\u001b[0;31m---------------------------------------------------------------------------\u001b[0m",
      "\u001b[0;31mNameError\u001b[0m                                 Traceback (most recent call last)",
      "\u001b[0;32m<ipython-input-1-5e9123013a34>\u001b[0m in \u001b[0;36m<module>\u001b[0;34m\u001b[0m\n\u001b[1;32m      1\u001b[0m \u001b[0;31m#Base model MAE and CV score\u001b[0m\u001b[0;34m\u001b[0m\u001b[0;34m\u001b[0m\u001b[0;34m\u001b[0m\u001b[0m\n\u001b[0;32m----> 2\u001b[0;31m \u001b[0mpredictions\u001b[0m \u001b[0;34m=\u001b[0m \u001b[0mimp_rf_rbt\u001b[0m\u001b[0;34m.\u001b[0m\u001b[0mpredict\u001b[0m\u001b[0;34m(\u001b[0m\u001b[0mX_test\u001b[0m\u001b[0;34m)\u001b[0m\u001b[0;34m\u001b[0m\u001b[0;34m\u001b[0m\u001b[0m\n\u001b[0m\u001b[1;32m      3\u001b[0m \u001b[0merrors\u001b[0m \u001b[0;34m=\u001b[0m \u001b[0mabs\u001b[0m\u001b[0;34m(\u001b[0m\u001b[0mpredictions\u001b[0m \u001b[0;34m-\u001b[0m \u001b[0my_test\u001b[0m\u001b[0;34m)\u001b[0m\u001b[0;34m\u001b[0m\u001b[0;34m\u001b[0m\u001b[0m\n\u001b[1;32m      4\u001b[0m \u001b[0mcv\u001b[0m \u001b[0;34m=\u001b[0m \u001b[0mcross_val_score\u001b[0m\u001b[0;34m(\u001b[0m\u001b[0mimp_rf_wct\u001b[0m\u001b[0;34m,\u001b[0m\u001b[0mX_test\u001b[0m\u001b[0;34m,\u001b[0m\u001b[0my_test\u001b[0m\u001b[0;34m,\u001b[0m\u001b[0mscoring\u001b[0m \u001b[0;34m=\u001b[0m \u001b[0;34m'neg_mean_absolute_error'\u001b[0m\u001b[0;34m,\u001b[0m\u001b[0mcv\u001b[0m\u001b[0;34m=\u001b[0m\u001b[0;36m5\u001b[0m\u001b[0;34m)\u001b[0m\u001b[0;34m\u001b[0m\u001b[0;34m\u001b[0m\u001b[0m\n\u001b[1;32m      5\u001b[0m \u001b[0;34m\u001b[0m\u001b[0m\n",
      "\u001b[0;31mNameError\u001b[0m: name 'imp_rf_rbt' is not defined"
     ]
    }
   ],
   "source": [
    "#Base model MAE and CV score\n",
    "predictions = imp_rf_wct.predict(X_test)\n",
    "errors = abs(predictions - y_test)\n",
    "cv = cross_val_score(imp_rf_wct,X_test,y_test,scoring = 'neg_mean_absolute_error',cv=5)\n",
    "\n",
    "print(\"Mean Absolute Error: \", round(np.mean(errors),2),'%')\n",
    "print(\"Mean CV Score: \" ,round(np.mean(cv),2))"
   ]
  },
  {
   "cell_type": "code",
   "execution_count": 43,
   "metadata": {},
   "outputs": [
    {
     "name": "stdout",
     "output_type": "stream",
     "text": [
      "Mean Absolute Error:  7.96 %\n",
      "Mean CV Score:  -5.53\n"
     ]
    }
   ],
   "source": [
    "#Tuned MAE and CV score\n",
    "best_search = rf_random.best_estimator_\n",
    "predictions = best_search.predict(X_test)\n",
    "errors = abs(predictions - y_test)\n",
    "cv = cross_val_score(best_search,X_test,y_test,scoring = 'neg_mean_absolute_error',cv=5)\n",
    "\n",
    "print(\"Mean Absolute Error: \", round(np.mean(errors),2),'%')\n",
    "print(\"Mean CV Score: \" ,round(np.mean(cv),2))"
   ]
  },
  {
   "cell_type": "code",
   "execution_count": 9,
   "metadata": {},
   "outputs": [
    {
     "name": "stdout",
     "output_type": "stream",
     "text": [
      "Mean Absolute Error:  8.07 %\n",
      "Mean CV Score:  -6.41\n"
     ]
    }
   ],
   "source": [
    "#Tuned MAE and CV score\n",
    "best_grid = grid_search.best_estimator_\n",
    "predictions = best_grid.predict(X_test)\n",
    "errors = abs(predictions - y_test)\n",
    "cv = cross_val_score(best_grid,X_test,y_test,scoring = 'neg_mean_absolute_error',cv=5)\n",
    "\n",
    "print(\"Mean Absolute Error: \", round(np.mean(errors),2),'%')\n",
    "print(\"Mean CV Score: \" ,round(np.mean(cv),2))"
   ]
  },
  {
   "cell_type": "code",
   "execution_count": null,
   "metadata": {},
   "outputs": [],
   "source": []
  }
 ],
 "metadata": {
  "kernelspec": {
   "display_name": "Python 3",
   "language": "python",
   "name": "python3"
  },
  "language_info": {
   "codemirror_mode": {
    "name": "ipython",
    "version": 3
   },
   "file_extension": ".py",
   "mimetype": "text/x-python",
   "name": "python",
   "nbconvert_exporter": "python",
   "pygments_lexer": "ipython3",
   "version": "3.7.2"
  }
 },
 "nbformat": 4,
 "nbformat_minor": 2
}
